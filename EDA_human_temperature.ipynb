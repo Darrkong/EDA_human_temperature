{
 "cells": [
  {
   "cell_type": "markdown",
   "metadata": {},
   "source": [
    "# What is the True Normal Human Body Temperature? \n",
    "\n",
    "#### Background\n",
    "\n",
    "The mean normal body temperature was held to be 37$^{\\circ}$C or 98.6$^{\\circ}$F for more than 120 years since it was first conceptualized and reported by Carl Wunderlich in a famous 1868 book. But, is this value statistically correct?"
   ]
  },
  {
   "cell_type": "markdown",
   "metadata": {},
   "source": [
    "<h3>Exercises</h3>\n",
    "\n",
    "<p>In this exercise, you will analyze a dataset of human body temperatures and employ the concepts of hypothesis testing, confidence intervals, and statistical significance.</p>\n",
    "\n",
    "<p>Answer the following questions <b>in this notebook below and submit to your Github account</b>.</p> \n",
    "\n",
    "<ol>\n",
    "<li>  Is the distribution of body temperatures normal? \n",
    "    <ul>\n",
    "    <li> Although this is not a requirement for the Central Limit Theorem to hold (read the introduction on Wikipedia's page about the CLT carefully: https://en.wikipedia.org/wiki/Central_limit_theorem), it gives us some peace of mind that the population may also be normally distributed if we assume that this sample is representative of the population.\n",
    "    <li> Think about the way you're going to check for the normality of the distribution. Graphical methods are usually used first, but there are also other ways: https://en.wikipedia.org/wiki/Normality_test\n",
    "    </ul>\n",
    "<li>  Is the sample size large? Are the observations independent?\n",
    "    <ul>\n",
    "    <li> Remember that this is a condition for the Central Limit Theorem, and hence the statistical tests we are using, to apply.\n",
    "    </ul>\n",
    "<li>  Is the true population mean really 98.6 degrees F?\n",
    "    <ul>\n",
    "    <li> First, try a bootstrap hypothesis test.\n",
    "    <li> Now, let's try frequentist statistical testing. Would you use a one-sample or two-sample test? Why?\n",
    "    <li> In this situation, is it appropriate to use the $t$ or $z$ statistic? \n",
    "    <li> Now try using the other test. How is the result be different? Why?\n",
    "    </ul>\n",
    "<li>  Draw a small sample of size 10 from the data and repeat both frequentist tests. \n",
    "    <ul>\n",
    "    <li> Which one is the correct one to use? \n",
    "    <li> What do you notice? What does this tell you about the difference in application of the $t$ and $z$ statistic?\n",
    "    </ul>\n",
    "<li>  At what temperature should we consider someone's temperature to be \"abnormal\"?\n",
    "    <ul>\n",
    "    <li> As in the previous example, try calculating everything using the boostrap approach, as well as the frequentist approach.\n",
    "    <li> Start by computing the margin of error and confidence interval. When calculating the confidence interval, keep in mind that you should use the appropriate formula for one draw, and not N draws.\n",
    "    </ul>\n",
    "<li>  Is there a significant difference between males and females in normal temperature?\n",
    "    <ul>\n",
    "    <li> What testing approach did you use and why?\n",
    "    <li> Write a story with your conclusion in the context of the original problem.\n",
    "    </ul>\n",
    "</ol>\n",
    "\n",
    "You can include written notes in notebook cells using Markdown: \n",
    "   - In the control panel at the top, choose Cell > Cell Type > Markdown\n",
    "   - Markdown syntax: http://nestacms.com/docs/creating-content/markdown-cheat-sheet\n",
    "\n",
    "#### Resources\n",
    "\n",
    "+ Information and data sources: http://www.amstat.org/publications/jse/datasets/normtemp.txt, http://www.amstat.org/publications/jse/jse_data_archive.htm\n",
    "+ Markdown syntax: http://nestacms.com/docs/creating-content/markdown-cheat-sheet\n",
    "\n",
    "****"
   ]
  },
  {
   "cell_type": "code",
   "execution_count": 1,
   "metadata": {},
   "outputs": [],
   "source": [
    "import pandas as pd\n",
    "import seaborn as sns\n",
    "import numpy as np\n",
    "import matplotlib.pyplot as plt\n",
    "import statsmodels.api as sm\n",
    "from scipy.stats import shapiro\n",
    "from sklearn.utils import resample\n",
    "\n",
    "df = pd.read_csv('data/human_body_temperature.csv')"
   ]
  },
  {
   "cell_type": "code",
   "execution_count": 2,
   "metadata": {},
   "outputs": [
    {
     "name": "stdout",
     "output_type": "stream",
     "text": [
      "shape: (130, 3)\n"
     ]
    },
    {
     "data": {
      "text/html": [
       "<div>\n",
       "<style scoped>\n",
       "    .dataframe tbody tr th:only-of-type {\n",
       "        vertical-align: middle;\n",
       "    }\n",
       "\n",
       "    .dataframe tbody tr th {\n",
       "        vertical-align: top;\n",
       "    }\n",
       "\n",
       "    .dataframe thead th {\n",
       "        text-align: right;\n",
       "    }\n",
       "</style>\n",
       "<table border=\"1\" class=\"dataframe\">\n",
       "  <thead>\n",
       "    <tr style=\"text-align: right;\">\n",
       "      <th></th>\n",
       "      <th>temperature</th>\n",
       "      <th>gender</th>\n",
       "      <th>heart_rate</th>\n",
       "    </tr>\n",
       "  </thead>\n",
       "  <tbody>\n",
       "    <tr>\n",
       "      <th>0</th>\n",
       "      <td>99.3</td>\n",
       "      <td>F</td>\n",
       "      <td>68.0</td>\n",
       "    </tr>\n",
       "    <tr>\n",
       "      <th>1</th>\n",
       "      <td>98.4</td>\n",
       "      <td>F</td>\n",
       "      <td>81.0</td>\n",
       "    </tr>\n",
       "    <tr>\n",
       "      <th>2</th>\n",
       "      <td>97.8</td>\n",
       "      <td>M</td>\n",
       "      <td>73.0</td>\n",
       "    </tr>\n",
       "    <tr>\n",
       "      <th>3</th>\n",
       "      <td>99.2</td>\n",
       "      <td>F</td>\n",
       "      <td>66.0</td>\n",
       "    </tr>\n",
       "    <tr>\n",
       "      <th>4</th>\n",
       "      <td>98.0</td>\n",
       "      <td>F</td>\n",
       "      <td>73.0</td>\n",
       "    </tr>\n",
       "  </tbody>\n",
       "</table>\n",
       "</div>"
      ],
      "text/plain": [
       "   temperature gender  heart_rate\n",
       "0         99.3      F        68.0\n",
       "1         98.4      F        81.0\n",
       "2         97.8      M        73.0\n",
       "3         99.2      F        66.0\n",
       "4         98.0      F        73.0"
      ]
     },
     "execution_count": 2,
     "metadata": {},
     "output_type": "execute_result"
    }
   ],
   "source": [
    "# Your work here.\n",
    "print('shape:', df.shape)\n",
    "df.head()"
   ]
  },
  {
   "cell_type": "markdown",
   "metadata": {},
   "source": [
    "## 1. Is the distribution of body temperatures normal?\n",
    "Yes, the distribution is normal.\n",
    "\n",
    "Upon visual inspection, the histogram of body temperature seems fairly normal with a mean around 98.5 degress.  The QQ plot shows that temperature quantiles are aligned with the theoretical quantiles for a normal distribution with the exception of a couple measurements on the extremes.  The Shapiro-Wilk test evaluates the hypothesis that the samples are drawn from a normal distribution. A p-value of 0.233 shows that we can accept the null hypothesis that the distribution is normal."
   ]
  },
  {
   "cell_type": "code",
   "execution_count": 3,
   "metadata": {},
   "outputs": [
    {
     "data": {
      "image/png": "[encoded data removed]",
      "text/plain": [
       "<Figure size 432x288 with 1 Axes>"
      ]
     },
     "metadata": {},
     "output_type": "display_data"
    },
    {
     "data": {
      "image/png": "[encoded data removed]",
      "text/plain": [
       "<Figure size 432x288 with 1 Axes>"
      ]
     },
     "metadata": {},
     "output_type": "display_data"
    },
    {
     "name": "stdout",
     "output_type": "stream",
     "text": [
      "shapiro p-value: 0.233174666762352\n"
     ]
    }
   ],
   "source": [
    "sns.distplot(df['temperature'])\n",
    "\n",
    "a = np.random.normal(5,5,250)\n",
    "sm.qqplot(df['temperature'], line = 's')\n",
    "plt.show()\n",
    "\n",
    "print('shapiro p-value:', shapiro(df['temperature'])[1])"
   ]
  },
  {
   "cell_type": "markdown",
   "metadata": {},
   "source": [
    "## 2.  Is the sample size large? Are the observations independent?\n",
    "The sample size of 130 is large enough, and the observations are independent.  One person's height and temperature should not affect that of another person."
   ]
  },
  {
   "cell_type": "markdown",
   "metadata": {},
   "source": [
    "## 3. Is the true population mean really 98.6 degrees F?\n",
    "\n",
    "Is the true population mean really 98.6 degrees F?\n",
    "\n",
    "<b> bootstrap hypothesis test</b>\n",
    "<br>\n",
    "Of 1000 samples of size 130 from a population where true mean was 98.6 degrees, 0 had a sample mean of 98.24 or less.  Therefore, the bootstrap tests suggests, the true population mean is not 98.6 degrees\n"
   ]
  },
  {
   "cell_type": "code",
   "execution_count": 4,
   "metadata": {},
   "outputs": [
    {
     "data": {
      "image/png": "[encoded data removed]",
      "text/plain": [
       "<Figure size 432x288 with 1 Axes>"
      ]
     },
     "metadata": {},
     "output_type": "display_data"
    },
    {
     "name": "stdout",
     "output_type": "stream",
     "text": [
      "If true population mean was 98.6, there is 0.0 chance we would get sample mean as extreme as 98.24923076923078\n"
     ]
    }
   ],
   "source": [
    "#bootstrap testing\n",
    "#shift sample population so mean is actually 98.6\n",
    "shift = 98.6 - df['temperature'].mean()\n",
    "bootstrap_pops = df['temperature'] + shift\n",
    "\n",
    "#calculate sample means of 1000 bootstrap samples\n",
    "sample_means = []\n",
    "for i in range(1,1001):\n",
    "    boot_sample = resample(bootstrap_pops, replace=True, n_samples=130)\n",
    "    sample_means.append(boot_sample.mean())\n",
    "\n",
    "#plot results\n",
    "sns.distplot(sample_means)\n",
    "plt.axvline(df['temperature'].mean(), color = 'k', linestyle = '--')\n",
    "plt.title('distribution of bootstrap sample means')\n",
    "plt.show()\n",
    "\n",
    "#calculate p-value\n",
    "sample_means = np.array(sample_means)\n",
    "p_value = (sample_means <= df['temperature'].mean()).sum()/len(sample_means)\n",
    "\n",
    "print('If true population mean was 98.6, there is %s chance we would get sample mean as extreme as %s' %(p_value*100, df['temperature'].mean()))"
   ]
  },
  {
   "cell_type": "markdown",
   "metadata": {},
   "source": [
    "<b> frequentist statistical testing with t-test</b>\n",
    "\n",
    "It is appropriate to use the t-test because we don't actually know the population standard deviation.  We need to estimate it from our sample.  According to t-test, the p-value is 2.4*10^-7 and we reject the null hypothesis that the population mean is 98.6 degress."
   ]
  },
  {
   "cell_type": "code",
   "execution_count": 5,
   "metadata": {},
   "outputs": [
    {
     "name": "stdout",
     "output_type": "stream",
     "text": [
      "t-test p_value: 2.4106320415561276e-07\n"
     ]
    }
   ],
   "source": [
    "#t-test\n",
    "from scipy import stats\n",
    "tstat, p_value = stats.ttest_1samp(df.temperature,popmean = 98.6)\n",
    "print('t-test p_value:', p_value)"
   ]
  },
  {
   "cell_type": "markdown",
   "metadata": {},
   "source": [
    "<b> frequentist statistical testing with z-test</b>\n",
    "\n",
    "The z-test assumes we don't have to estimate the population standard deviation from the sample.  If we assume the sample and population standard deviations are the same, we can use the z-test.  According to z-test, the p-value is 4.9*10^-8 and we reject the null hypothesis that the population mean is 98.6 degress.  This is a smaller p-value than the t-test because the t-test builds in uncertaintly about the population standard deviation and produces a larger confidence interval."
   ]
  },
  {
   "cell_type": "code",
   "execution_count": 6,
   "metadata": {},
   "outputs": [
    {
     "name": "stdout",
     "output_type": "stream",
     "text": [
      "z-test p_value: 4.9021570141012155e-08\n"
     ]
    }
   ],
   "source": [
    "#z-test\n",
    "from statsmodels.stats.weightstats import ztest\n",
    "zstat, p_value = ztest(df.temperature,value=98.6)\n",
    "print('z-test p_value:', p_value)"
   ]
  },
  {
   "cell_type": "markdown",
   "metadata": {},
   "source": [
    "## 4. Draw a small sample of size 10 from the data and repeat both frequentist tests\n",
    "\n",
    "The t-test is still the correct one to use because your sample standard deviation may not be similar to the population standard deviation.  The difference between the sample and population standard deviations is likely bigger the smaller your sample.  Therefore, the t-test and z-test differences may be more noticeable."
   ]
  },
  {
   "cell_type": "code",
   "execution_count": 7,
   "metadata": {},
   "outputs": [],
   "source": [
    "small_sample = resample(df.temperature, replace=True, n_samples=10, random_state = 123)"
   ]
  },
  {
   "cell_type": "code",
   "execution_count": 8,
   "metadata": {},
   "outputs": [
    {
     "name": "stdout",
     "output_type": "stream",
     "text": [
      "t-test p_value: 0.12675736026885132\n"
     ]
    }
   ],
   "source": [
    "#t-test\n",
    "from scipy import stats\n",
    "tstat, p_value = stats.ttest_1samp(small_sample,popmean = 98.6)\n",
    "print('t-test p_value:', p_value)"
   ]
  },
  {
   "cell_type": "code",
   "execution_count": 9,
   "metadata": {},
   "outputs": [
    {
     "name": "stdout",
     "output_type": "stream",
     "text": [
      "z-test p_value: 0.09246452268183201\n"
     ]
    }
   ],
   "source": [
    "#z-test\n",
    "from statsmodels.stats.weightstats import ztest\n",
    "zstat, p_value = ztest(small_sample,value=98.6)\n",
    "print('z-test p_value:', p_value)"
   ]
  },
  {
   "cell_type": "markdown",
   "metadata": {},
   "source": [
    "## 5. At what temperature should we consider someone's temperature to be \"abnormal\"?\n",
    "\n",
    "Per the bootstrap approach, abnormal temperatures are < 97.1 or > 99.2 degrees\n",
    "<br>\n",
    "Per the frequentist approach, abnormal temperatures are < 96.8 or > 99.6 degrees"
   ]
  },
  {
   "cell_type": "code",
   "execution_count": 10,
   "metadata": {},
   "outputs": [
    {
     "name": "stdout",
     "output_type": "stream",
     "text": [
      "bootstrap results: < 97.1 or > 99.3\n"
     ]
    }
   ],
   "source": [
    "#bootstrap approach\n",
    "samples = []\n",
    "for i in range(1,1001):\n",
    "    boot_sample = resample(df['temperature'].values, replace=True, n_samples=1)\n",
    "    samples.append(boot_sample)\n",
    "samples = np.array(samples)\n",
    "\n",
    "print('bootstrap results:', '<', np.percentile(samples, 5), 'or >', np.percentile(samples, 95))"
   ]
  },
  {
   "cell_type": "code",
   "execution_count": 11,
   "metadata": {},
   "outputs": [
    {
     "name": "stdout",
     "output_type": "stream",
     "text": [
      "frequentist results: < 96.8177295225769 or > 99.68073201588466\n"
     ]
    }
   ],
   "source": [
    "#frequentist approach\n",
    "sample_std = np.std(df['temperature'])\n",
    "sample_mean = df['temperature'].mean()\n",
    "print('frequentist results:', '<', sample_mean - 1.96*sample_std, 'or >', sample_mean + 1.96*sample_std)"
   ]
  },
  {
   "cell_type": "markdown",
   "metadata": {},
   "source": [
    "## 6. Is there a significant difference between males and females in normal temperature?\n",
    "\n",
    "I did a 2-sample t-test. This tests whether two independent samples (males vs females) have the same mean.  A p-value of 0.02 suggests that they have different means. However, the observed difference in means is 0.2 degrees.  This small difference in temperature may be statistically significant, but its not clear if its meaningful.  "
   ]
  },
  {
   "cell_type": "code",
   "execution_count": 12,
   "metadata": {},
   "outputs": [
    {
     "data": {
      "image/png": "[encoded data removed]",
      "text/plain": [
       "<Figure size 432x288 with 1 Axes>"
      ]
     },
     "metadata": {},
     "output_type": "display_data"
    },
    {
     "name": "stdout",
     "output_type": "stream",
     "text": [
      "male mean: 98.1046153846154\n",
      "female mean: 98.39384615384613\n"
     ]
    }
   ],
   "source": [
    "sns.distplot(df.loc[df['gender'] == 'F', 'temperature'], hist=False, rug=True, label = 'F')\n",
    "sns.distplot(df.loc[df['gender'] == 'M', 'temperature'], hist=False, rug=True, label = 'M')\n",
    "plt.show()\n",
    "print('male mean:', df.loc[df['gender'] == 'M', 'temperature'].mean())\n",
    "print('female mean:', df.loc[df['gender'] == 'F', 'temperature'].mean())"
   ]
  },
  {
   "cell_type": "code",
   "execution_count": 13,
   "metadata": {},
   "outputs": [
    {
     "name": "stdout",
     "output_type": "stream",
     "text": [
      "t-test p-value: 0.023938264182934196\n"
     ]
    }
   ],
   "source": [
    "tstat, p_value = stats.ttest_ind(df.loc[df['gender'] == 'F', 'temperature'],df.loc[df['gender'] == 'M', 'temperature'], equal_var = False)\n",
    "print('t-test p-value:', p_value)"
   ]
  }
 ],
 "metadata": {
  "kernelspec": {
   "display_name": "Python 3",
   "language": "python",
   "name": "python3"
  },
  "language_info": {
   "codemirror_mode": {
    "name": "ipython",
    "version": 3
   },
   "file_extension": ".py",
   "mimetype": "text/x-python",
   "name": "python",
   "nbconvert_exporter": "python",
   "pygments_lexer": "ipython3",
   "version": "3.6.5"
  }
 },
 "nbformat": 4,
 "nbformat_minor": 1
}
